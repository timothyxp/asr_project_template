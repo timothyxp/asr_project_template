{
 "cells": [
  {
   "cell_type": "code",
   "execution_count": 5,
   "metadata": {},
   "outputs": [],
   "source": [
    "import editdistance\n",
    "\n",
    "\n",
    "def calc_cer(target_text, predicted_text) -> float:\n",
    "    if len(target_text) == 0:\n",
    "        return 0\n",
    "    \n",
    "    return editdistance.distance(predicted_text, target_text) / len(target_text)\n",
    "\n",
    "\n",
    "def calc_wer(target_text, predicted_text) -> float:\n",
    "    target_text, predicted_text = target_text.split(' '), predicted_text.split(' ')\n",
    "    if len(target_text) == 0:\n",
    "        return 0\n",
    "    \n",
    "    return editdistance.distance(predicted_text, target_text) / len(target_text)\n"
   ]
  },
  {
   "cell_type": "code",
   "execution_count": 6,
   "metadata": {},
   "outputs": [],
   "source": [
    "import numpy as np\n",
    "\n",
    "for target, pred, expected_wer, expected_cer in [\n",
    "    (\"if you can not measure it you can not improve it\", \n",
    "     \"if you can nt measure t yo can not i\", \n",
    "     0.454, 0.25),\n",
    "    (\"if you cant describe what you are doing as a process you dont know what youre doing\", \n",
    "     \"if you cant describe what you are doing as a process you dont know what youre doing\", \n",
    "     0.0, 0.0),\n",
    "    (\"one measurement is worth a thousand expert opinions\", \n",
    "     \"one  is worth thousand opinions\", \n",
    "     0.375, 0.392)\n",
    "]:\n",
    "    wer = calc_wer(target, pred)\n",
    "    cer = calc_cer(target, pred)\n",
    "    assert np.isclose(wer, expected_wer, atol=1e-3), f\"true: {target}, pred: {pred}, expected wer {expected_wer} != your wer {wer}\"\n",
    "    assert np.isclose(cer, expected_cer, atol=1e-3), f\"true: {target}, pred: {pred}, expected cer {expected_cer} != your cer {cer}\""
   ]
  },
  {
   "cell_type": "code",
   "execution_count": 7,
   "metadata": {},
   "outputs": [],
   "source": [
    "from hw_asr.text_encoder.ctc_char_text_encoder import CTCCharTextEncoder"
   ]
  },
  {
   "cell_type": "code",
   "execution_count": 9,
   "metadata": {},
   "outputs": [],
   "source": [
    "encoder = CTCCharTextEncoder.get_simple_alphabet()"
   ]
  },
  {
   "cell_type": "code",
   "execution_count": null,
   "metadata": {},
   "outputs": [],
   "source": []
  },
  {
   "cell_type": "code",
   "execution_count": 17,
   "metadata": {},
   "outputs": [],
   "source": [
    "import torch"
   ]
  },
  {
   "cell_type": "code",
   "execution_count": 42,
   "metadata": {},
   "outputs": [],
   "source": [
    "log_probs = torch.load(\"log_probs.pth\")\n",
    "input_lengths = torch.load(\"input_lengths.pth\")\n",
    "targets = torch.load(\"targets.pth\")\n",
    "target_lengths = torch.load(\"target_lengths.pth\")"
   ]
  },
  {
   "cell_type": "code",
   "execution_count": 43,
   "metadata": {},
   "outputs": [],
   "source": [
    "from torch.nn import CTCLoss\n"
   ]
  },
  {
   "cell_type": "code",
   "execution_count": 44,
   "metadata": {},
   "outputs": [
    {
     "data": {
      "text/plain": [
       "(torch.Size([944, 20, 28]),\n",
       " torch.Size([20, 178]),\n",
       " torch.Size([20]),\n",
       " torch.Size([20]))"
      ]
     },
     "execution_count": 44,
     "metadata": {},
     "output_type": "execute_result"
    }
   ],
   "source": [
    "log_probs.shape, targets.shape, input_lengths.shape, target_lengths.shape"
   ]
  },
  {
   "cell_type": "code",
   "execution_count": 45,
   "metadata": {},
   "outputs": [],
   "source": [
    "loss = CTCLoss(reduction='none')"
   ]
  },
  {
   "cell_type": "code",
   "execution_count": 46,
   "metadata": {},
   "outputs": [
    {
     "data": {
      "text/plain": [
       "tensor([ 657.8795, 1683.1038, 1934.3074, 1541.3494, 1956.8157, 1615.7985,\n",
       "         859.8023, 1875.2427, 2455.1677,  683.3677, 1890.3376, 1083.0039,\n",
       "        1492.3206, 2146.5991, 1580.9023,  796.2955,  629.4090,  813.8438,\n",
       "        1196.7618,  788.1266], grad_fn=<CtcLossBackward>)"
      ]
     },
     "execution_count": 46,
     "metadata": {},
     "output_type": "execute_result"
    }
   ],
   "source": [
    "loss(log_probs=log_probs, targets=targets,\n",
    "                               input_lengths=input_lengths, target_lengths=target_lengths)"
   ]
  },
  {
   "cell_type": "code",
   "execution_count": 47,
   "metadata": {},
   "outputs": [
    {
     "data": {
      "text/plain": [
       "tensor([ 61, 111, 178,  93, 157, 105,  64, 148, 176,  36, 176,  71, 139, 174,\n",
       "         89,  60,  37,  53, 103,  40])"
      ]
     },
     "execution_count": 47,
     "metadata": {},
     "output_type": "execute_result"
    }
   ],
   "source": [
    "target_lengths"
   ]
  },
  {
   "cell_type": "code",
   "execution_count": null,
   "metadata": {},
   "outputs": [],
   "source": []
  },
  {
   "cell_type": "code",
   "execution_count": null,
   "metadata": {},
   "outputs": [],
   "source": []
  },
  {
   "cell_type": "code",
   "execution_count": null,
   "metadata": {},
   "outputs": [],
   "source": []
  },
  {
   "cell_type": "code",
   "execution_count": 32,
   "metadata": {},
   "outputs": [
    {
     "data": {
      "text/plain": [
       "(tensor(0),\n",
       " tensor(-194.7010, grad_fn=<MinBackward1>),\n",
       " tensor(0., grad_fn=<MaxBackward1>))"
      ]
     },
     "execution_count": 32,
     "metadata": {},
     "output_type": "execute_result"
    }
   ],
   "source": [
    "torch.isnan(log_probs).sum(), torch.min(log_probs), torch.max(log_probs)"
   ]
  },
  {
   "cell_type": "code",
   "execution_count": 33,
   "metadata": {},
   "outputs": [
    {
     "data": {
      "text/plain": [
       "(tensor(0), tensor(0.), tensor(27.))"
      ]
     },
     "execution_count": 33,
     "metadata": {},
     "output_type": "execute_result"
    }
   ],
   "source": [
    "torch.isnan(targets).sum(), torch.min(targets), torch.max(targets)"
   ]
  },
  {
   "cell_type": "code",
   "execution_count": 34,
   "metadata": {},
   "outputs": [
    {
     "data": {
      "text/plain": [
       "(tensor(0), tensor(128), tensor(128))"
      ]
     },
     "execution_count": 34,
     "metadata": {},
     "output_type": "execute_result"
    }
   ],
   "source": [
    "torch.isnan(input_lengths).sum(), torch.min(input_lengths), torch.max(input_lengths)"
   ]
  },
  {
   "cell_type": "code",
   "execution_count": 35,
   "metadata": {},
   "outputs": [
    {
     "data": {
      "text/plain": [
       "(tensor(0), tensor(36), tensor(178))"
      ]
     },
     "execution_count": 35,
     "metadata": {},
     "output_type": "execute_result"
    }
   ],
   "source": [
    "torch.isnan(target_lengths).sum(), torch.min(target_lengths), torch.max(target_lengths)"
   ]
  },
  {
   "cell_type": "code",
   "execution_count": null,
   "metadata": {},
   "outputs": [],
   "source": []
  },
  {
   "cell_type": "code",
   "execution_count": null,
   "metadata": {},
   "outputs": [],
   "source": []
  },
  {
   "cell_type": "code",
   "execution_count": 20,
   "metadata": {},
   "outputs": [
    {
     "data": {
      "text/plain": [
       "tensor([[[-3.3639, -3.3025, -3.3200,  ..., -3.2768, -3.3583, -3.3349],\n",
       "         [-3.3635, -3.3029, -3.3197,  ..., -3.2787, -3.3583, -3.3350],\n",
       "         [-3.3616, -3.3039, -3.3194,  ..., -3.2774, -3.3583, -3.3341],\n",
       "         ...,\n",
       "         [-3.3628, -3.3032, -3.3197,  ..., -3.2777, -3.3584, -3.3348],\n",
       "         [-3.3579, -3.3041, -3.3199,  ..., -3.2759, -3.3585, -3.3329],\n",
       "         [-3.3601, -3.3042, -3.3195,  ..., -3.2770, -3.3584, -3.3336]],\n",
       "\n",
       "        [[-3.3606, -3.3038, -3.3199,  ..., -3.2769, -3.3586, -3.3336],\n",
       "         [-3.3636, -3.3029, -3.3197,  ..., -3.2787, -3.3583, -3.3350],\n",
       "         [-3.3549, -3.3037, -3.3224,  ..., -3.2755, -3.3582, -3.3314],\n",
       "         ...,\n",
       "         [-3.3635, -3.3027, -3.3198,  ..., -3.2785, -3.3582, -3.3352],\n",
       "         [-3.3472, -3.3010, -3.3271,  ..., -3.2754, -3.3644, -3.3276],\n",
       "         [-3.3640, -3.3030, -3.3198,  ..., -3.2760, -3.3582, -3.3350]],\n",
       "\n",
       "        [[-3.3629, -3.3033, -3.3199,  ..., -3.2773, -3.3585, -3.3344],\n",
       "         [-3.3635, -3.3029, -3.3196,  ..., -3.2787, -3.3582, -3.3349],\n",
       "         [-3.3621, -3.3036, -3.3195,  ..., -3.2778, -3.3583, -3.3343],\n",
       "         ...,\n",
       "         [-3.3636, -3.3023, -3.3204,  ..., -3.2785, -3.3581, -3.3347],\n",
       "         [-3.3562, -3.3041, -3.3207,  ..., -3.2760, -3.3585, -3.3323],\n",
       "         [-3.3630, -3.3035, -3.3198,  ..., -3.2754, -3.3582, -3.3346]],\n",
       "\n",
       "        ...,\n",
       "\n",
       "        [[-3.3635, -3.3029, -3.3196,  ..., -3.2787, -3.3583, -3.3349],\n",
       "         [-3.3635, -3.3029, -3.3196,  ..., -3.2787, -3.3583, -3.3349],\n",
       "         [-3.3635, -3.3029, -3.3196,  ..., -3.2787, -3.3583, -3.3349],\n",
       "         ...,\n",
       "         [-3.3635, -3.3029, -3.3196,  ..., -3.2787, -3.3583, -3.3349],\n",
       "         [-3.3635, -3.3029, -3.3196,  ..., -3.2787, -3.3583, -3.3349],\n",
       "         [-3.3635, -3.3029, -3.3196,  ..., -3.2787, -3.3583, -3.3349]],\n",
       "\n",
       "        [[-3.3635, -3.3029, -3.3196,  ..., -3.2787, -3.3583, -3.3349],\n",
       "         [-3.3635, -3.3029, -3.3196,  ..., -3.2787, -3.3583, -3.3349],\n",
       "         [-3.3635, -3.3029, -3.3196,  ..., -3.2787, -3.3583, -3.3349],\n",
       "         ...,\n",
       "         [-3.3635, -3.3029, -3.3196,  ..., -3.2787, -3.3583, -3.3349],\n",
       "         [-3.3635, -3.3029, -3.3196,  ..., -3.2787, -3.3583, -3.3349],\n",
       "         [-3.3635, -3.3029, -3.3196,  ..., -3.2787, -3.3583, -3.3349]],\n",
       "\n",
       "        [[-3.3635, -3.3029, -3.3196,  ..., -3.2787, -3.3583, -3.3349],\n",
       "         [-3.3635, -3.3029, -3.3196,  ..., -3.2787, -3.3583, -3.3349],\n",
       "         [-3.3635, -3.3029, -3.3196,  ..., -3.2787, -3.3583, -3.3349],\n",
       "         ...,\n",
       "         [-3.3635, -3.3029, -3.3196,  ..., -3.2787, -3.3583, -3.3349],\n",
       "         [-3.3635, -3.3029, -3.3196,  ..., -3.2787, -3.3583, -3.3349],\n",
       "         [-3.3635, -3.3029, -3.3196,  ..., -3.2787, -3.3583, -3.3349]]],\n",
       "       requires_grad=True)"
      ]
     },
     "execution_count": 20,
     "metadata": {},
     "output_type": "execute_result"
    }
   ],
   "source": [
    "log_probs"
   ]
  },
  {
   "cell_type": "code",
   "execution_count": null,
   "metadata": {},
   "outputs": [],
   "source": []
  },
  {
   "cell_type": "code",
   "execution_count": null,
   "metadata": {},
   "outputs": [],
   "source": []
  }
 ],
 "metadata": {
  "kernelspec": {
   "display_name": "Python 3",
   "language": "python",
   "name": "python3"
  },
  "language_info": {
   "codemirror_mode": {
    "name": "ipython",
    "version": 3
   },
   "file_extension": ".py",
   "mimetype": "text/x-python",
   "name": "python",
   "nbconvert_exporter": "python",
   "pygments_lexer": "ipython3",
   "version": "3.8.5"
  }
 },
 "nbformat": 4,
 "nbformat_minor": 4
}
